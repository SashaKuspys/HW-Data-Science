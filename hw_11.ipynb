{
  "nbformat": 4,
  "nbformat_minor": 0,
  "metadata": {
    "colab": {
      "provenance": [],
      "gpuType": "T4"
    },
    "kernelspec": {
      "name": "python3",
      "display_name": "Python 3"
    },
    "language_info": {
      "name": "python"
    },
    "accelerator": "GPU"
  },
  "cells": [
    {
      "cell_type": "code",
      "execution_count": 1,
      "metadata": {
        "id": "Zu_F4O6yJIMx"
      },
      "outputs": [],
      "source": [
        "import matplotlib.pyplot as plt\n",
        "from keras.datasets import imdb\n",
        "from keras.utils import pad_sequences\n",
        "from keras.models import Sequential\n",
        "from keras.layers import Embedding, SimpleRNN, Dense"
      ]
    },
    {
      "cell_type": "code",
      "source": [
        "max_features = 10000  # кількість слів, що розглядаються як особливості\n",
        "maxlen = 500  # обмеження кількості слів в тексті\n",
        "batch_size = 32"
      ],
      "metadata": {
        "id": "xc8WGePmMZOT"
      },
      "execution_count": 2,
      "outputs": []
    },
    {
      "cell_type": "code",
      "source": [
        "(input_train, y_train), (input_test, y_test) = imdb.load_data(num_words=max_features)\n",
        "\n",
        "print(len(input_train), 'тренувальних послідовностей')\n",
        "print(len(input_test), 'тестових послідовностей')"
      ],
      "metadata": {
        "colab": {
          "base_uri": "https://localhost:8080/"
        },
        "id": "5Ir-SvH5L30w",
        "outputId": "272f589c-9d58-460b-950f-ed0d00398350"
      },
      "execution_count": 3,
      "outputs": [
        {
          "output_type": "stream",
          "name": "stdout",
          "text": [
            "Downloading data from https://storage.googleapis.com/tensorflow/tf-keras-datasets/imdb.npz\n",
            "17464789/17464789 [==============================] - 1s 0us/step\n",
            "25000 тренувальних послідовностей\n",
            "25000 тестових послідовностей\n"
          ]
        }
      ]
    },
    {
      "cell_type": "code",
      "source": [
        "input_train = pad_sequences(input_train, maxlen=maxlen)\n",
        "input_test = pad_sequences(input_test, maxlen=maxlen)\n",
        "\n",
        "print('input_train shape:', input_train.shape)\n",
        "print('input_test shape:', input_test.shape)"
      ],
      "metadata": {
        "colab": {
          "base_uri": "https://localhost:8080/"
        },
        "id": "4n86knTqMP5U",
        "outputId": "e9e85084-1d3d-4051-946d-b6a9d91f277a"
      },
      "execution_count": 4,
      "outputs": [
        {
          "output_type": "stream",
          "name": "stdout",
          "text": [
            "input_train shape: (25000, 500)\n",
            "input_test shape: (25000, 500)\n"
          ]
        }
      ]
    },
    {
      "cell_type": "markdown",
      "source": [
        "будуємо RNN - модель"
      ],
      "metadata": {
        "id": "CGKfwqruR_a3"
      }
    },
    {
      "cell_type": "code",
      "source": [
        "model = Sequential()\n",
        "model.add(Embedding(max_features, 32))\n",
        "model.add(SimpleRNN(32))\n",
        "model.add(Dense(1, activation='sigmoid'))"
      ],
      "metadata": {
        "id": "skB9a46GSGPG"
      },
      "execution_count": 5,
      "outputs": []
    },
    {
      "cell_type": "code",
      "source": [
        "model.compile(optimizer='rmsprop', loss='binary_crossentropy', metrics=['acc'])"
      ],
      "metadata": {
        "id": "Y-l7cK58SNIP"
      },
      "execution_count": 6,
      "outputs": []
    },
    {
      "cell_type": "code",
      "source": [
        "model.summary()\n"
      ],
      "metadata": {
        "colab": {
          "base_uri": "https://localhost:8080/"
        },
        "id": "BX7RPhO-SSeb",
        "outputId": "9a2c792f-1b3b-4b73-8a88-f2e06290b373"
      },
      "execution_count": 7,
      "outputs": [
        {
          "output_type": "stream",
          "name": "stdout",
          "text": [
            "Model: \"sequential\"\n",
            "_________________________________________________________________\n",
            " Layer (type)                Output Shape              Param #   \n",
            "=================================================================\n",
            " embedding (Embedding)       (None, None, 32)          320000    \n",
            "                                                                 \n",
            " simple_rnn (SimpleRNN)      (None, 32)                2080      \n",
            "                                                                 \n",
            " dense (Dense)               (None, 1)                 33        \n",
            "                                                                 \n",
            "=================================================================\n",
            "Total params: 322113 (1.23 MB)\n",
            "Trainable params: 322113 (1.23 MB)\n",
            "Non-trainable params: 0 (0.00 Byte)\n",
            "_________________________________________________________________\n"
          ]
        }
      ]
    },
    {
      "cell_type": "code",
      "source": [
        "history = model.fit(input_train, y_train, epochs=5, batch_size=128, validation_split=0.3)"
      ],
      "metadata": {
        "colab": {
          "base_uri": "https://localhost:8080/"
        },
        "id": "1jOyWE0RSUB7",
        "outputId": "6568b4c9-f546-4511-9f10-2e08eb0d0d94"
      },
      "execution_count": 8,
      "outputs": [
        {
          "output_type": "stream",
          "name": "stdout",
          "text": [
            "Epoch 1/5\n",
            "137/137 [==============================] - 83s 583ms/step - loss: 0.6416 - acc: 0.6154 - val_loss: 0.5228 - val_acc: 0.7467\n",
            "Epoch 2/5\n",
            "137/137 [==============================] - 77s 561ms/step - loss: 0.4255 - acc: 0.8140 - val_loss: 0.3910 - val_acc: 0.8327\n",
            "Epoch 3/5\n",
            "137/137 [==============================] - 73s 532ms/step - loss: 0.3179 - acc: 0.8721 - val_loss: 0.3947 - val_acc: 0.8252\n",
            "Epoch 4/5\n",
            "137/137 [==============================] - 73s 534ms/step - loss: 0.2622 - acc: 0.8958 - val_loss: 0.3564 - val_acc: 0.8581\n",
            "Epoch 5/5\n",
            "137/137 [==============================] - 72s 529ms/step - loss: 0.2004 - acc: 0.9250 - val_loss: 0.4529 - val_acc: 0.8113\n"
          ]
        }
      ]
    },
    {
      "cell_type": "code",
      "source": [
        "acc = history.history['acc']\n",
        "val_acc = history.history['val_acc']\n",
        "loss = history.history['loss']\n",
        "val_loss = history.history['val_loss']\n",
        "\n",
        "epochs = range(1, len(acc) + 1)\n",
        "\n",
        "plt.plot(epochs, acc, 'bo', label='Точність на тренуванні')  # Графік точності на тренувальних данних\n",
        "plt.plot(epochs, val_acc, 'b', label='Точність на валідації')  # Графік точності на валідаційних данних\n",
        "plt.title('Точність тренування і валідації')  # Заголовок графіку\n",
        "plt.legend()  # Показати легенду\n",
        "\n",
        "plt.figure()\n",
        "\n",
        "plt.plot(epochs, loss, 'bo', label='Втрати на тренуванні')  # Графік втрат на тренувальних данних\n",
        "plt.plot(epochs, val_loss, 'b', label='Втрати на валідації')  # Графік втрат на валідаційних данних\n",
        "plt.title('Втрати тренування і валідації')  # Заголовок графіку\n",
        "plt.legend()  # Показати легенду\n",
        "\n",
        "plt.show()  # Відобразити графіки\n"
      ],
      "metadata": {
        "colab": {
          "base_uri": "https://localhost:8080/",
          "height": 887
        },
        "id": "aejie6GYUEUy",
        "outputId": "2dd7c549-5162-42b7-8b57-042fff35c2e0"
      },
      "execution_count": 9,
      "outputs": [
        {
          "output_type": "display_data",
          "data": {
            "text/plain": [
              "<Figure size 640x480 with 1 Axes>"
            ],
            "image/png": "[encoded data removed]"
          },
          "metadata": {}
        },
        {
          "output_type": "display_data",
          "data": {
            "text/plain": [
              "<Figure size 640x480 with 1 Axes>"
            ],
            "image/png": "[encoded data removed]"
          },
          "metadata": {}
        }
      ]
    },
    {
      "cell_type": "code",
      "source": [
        "predictions = model.predict(input_test)\n",
        "\n",
        "# Для отримання зрозумілішого вигляду прогнозів, перетворюємо в бінарний формат:\n",
        "binary_predictions = [1 if pred > 0.5 else 0 for pred in predictions]\n",
        "\n",
        "# Для порівняння виведемо деякі прогнозовані значення поряд з фактичними значеннями\n",
        "for i in range(10):\n",
        "    print(f\"Прогнозоване: {binary_predictions[i]}, Фактичне: {y_test[i]}\")\n",
        "\n",
        "# Додатковий крок: Оцінка моделі\n",
        "# Це дасть загальну точність моделі на тестових даних\n",
        "test_loss, test_acc = model.evaluate(input_test, y_test)\n",
        "print('Test Loss: {}'.format(test_loss))\n",
        "print('Test Accuracy: {}'.format(test_acc))\n"
      ],
      "metadata": {
        "colab": {
          "base_uri": "https://localhost:8080/"
        },
        "id": "lfFrAGG-UQXO",
        "outputId": "c2c6662a-d55b-41ee-a518-406d29fd4a2f"
      },
      "execution_count": 10,
      "outputs": [
        {
          "output_type": "stream",
          "name": "stdout",
          "text": [
            "782/782 [==============================] - 37s 47ms/step\n",
            "Прогнозоване: 0, Фактичне: 0\n",
            "Прогнозоване: 1, Фактичне: 1\n",
            "Прогнозоване: 0, Фактичне: 1\n",
            "Прогнозоване: 0, Фактичне: 0\n",
            "Прогнозоване: 1, Фактичне: 1\n",
            "Прогнозоване: 1, Фактичне: 1\n",
            "Прогнозоване: 1, Фактичне: 1\n",
            "Прогнозоване: 0, Фактичне: 0\n",
            "Прогнозоване: 1, Фактичне: 0\n",
            "Прогнозоване: 1, Фактичне: 1\n",
            "782/782 [==============================] - 36s 46ms/step - loss: 0.4636 - acc: 0.7988\n",
            "Test Loss: 0.46363386511802673\n",
            "Test Accuracy: 0.798799991607666\n"
          ]
        }
      ]
    },
    {
      "cell_type": "markdown",
      "source": [
        "Будуємо LSTM - модель"
      ],
      "metadata": {
        "id": "S_7wlc57Om65"
      }
    },
    {
      "cell_type": "code",
      "source": [
        "from keras.layers import LSTM"
      ],
      "metadata": {
        "id": "yWV3P18fjuHR"
      },
      "execution_count": 11,
      "outputs": []
    },
    {
      "cell_type": "code",
      "source": [
        "max_features = 10000  # кількість слів, що розглядаються як особливості\n",
        "maxlen = 500  # обмеження кількості слів в тексті\n",
        "batch_size = 32"
      ],
      "metadata": {
        "id": "YlTym9LIkSM7"
      },
      "execution_count": 12,
      "outputs": []
    },
    {
      "cell_type": "code",
      "source": [
        "(input_train, y_train), (input_test, y_test) = imdb.load_data(num_words=max_features)"
      ],
      "metadata": {
        "id": "LiWlRK8BkVX7"
      },
      "execution_count": 13,
      "outputs": []
    },
    {
      "cell_type": "code",
      "source": [
        "input_train = pad_sequences(input_train, maxlen=maxlen)\n",
        "input_test = pad_sequences(input_test, maxlen=maxlen)"
      ],
      "metadata": {
        "id": "TtopgDCwkZnb"
      },
      "execution_count": 14,
      "outputs": []
    },
    {
      "cell_type": "code",
      "source": [
        "model = Sequential()\n",
        "model.add(Embedding(max_features, 32))\n",
        "model.add(LSTM(32))\n",
        "model.add(Dense(1, activation='sigmoid'))"
      ],
      "metadata": {
        "id": "9kFtkM98NVJ2"
      },
      "execution_count": 15,
      "outputs": []
    },
    {
      "cell_type": "code",
      "source": [
        "model.compile(optimizer='rmsprop', loss='binary_crossentropy', metrics=['acc'])"
      ],
      "metadata": {
        "id": "XULToi8ONcLR"
      },
      "execution_count": 16,
      "outputs": []
    },
    {
      "cell_type": "code",
      "source": [
        "model.summary()"
      ],
      "metadata": {
        "colab": {
          "base_uri": "https://localhost:8080/"
        },
        "id": "Z3YojxhnNll5",
        "outputId": "834f0e64-fc75-4f9f-b372-e5041c9199cb"
      },
      "execution_count": 17,
      "outputs": [
        {
          "output_type": "stream",
          "name": "stdout",
          "text": [
            "Model: \"sequential_1\"\n",
            "_________________________________________________________________\n",
            " Layer (type)                Output Shape              Param #   \n",
            "=================================================================\n",
            " embedding_1 (Embedding)     (None, None, 32)          320000    \n",
            "                                                                 \n",
            " lstm (LSTM)                 (None, 32)                8320      \n",
            "                                                                 \n",
            " dense_1 (Dense)             (None, 1)                 33        \n",
            "                                                                 \n",
            "=================================================================\n",
            "Total params: 328353 (1.25 MB)\n",
            "Trainable params: 328353 (1.25 MB)\n",
            "Non-trainable params: 0 (0.00 Byte)\n",
            "_________________________________________________________________\n"
          ]
        }
      ]
    },
    {
      "cell_type": "code",
      "source": [
        "history = model.fit(input_train, y_train, epochs=5, batch_size=128, validation_split=0.3)"
      ],
      "metadata": {
        "colab": {
          "base_uri": "https://localhost:8080/"
        },
        "id": "m4yIwYDgNsVl",
        "outputId": "8f1d9c5b-ea55-451e-eeaf-f072e256daca"
      },
      "execution_count": 18,
      "outputs": [
        {
          "output_type": "stream",
          "name": "stdout",
          "text": [
            "Epoch 1/5\n",
            "137/137 [==============================] - 15s 98ms/step - loss: 0.6388 - acc: 0.6394 - val_loss: 0.4798 - val_acc: 0.7961\n",
            "Epoch 2/5\n",
            "137/137 [==============================] - 11s 81ms/step - loss: 0.3997 - acc: 0.8326 - val_loss: 0.3368 - val_acc: 0.8591\n",
            "Epoch 3/5\n",
            "137/137 [==============================] - 12s 85ms/step - loss: 0.2979 - acc: 0.8823 - val_loss: 0.3285 - val_acc: 0.8621\n",
            "Epoch 4/5\n",
            "137/137 [==============================] - 8s 60ms/step - loss: 0.2409 - acc: 0.9070 - val_loss: 0.3128 - val_acc: 0.8831\n",
            "Epoch 5/5\n",
            "137/137 [==============================] - 7s 53ms/step - loss: 0.2101 - acc: 0.9225 - val_loss: 0.2928 - val_acc: 0.8784\n"
          ]
        }
      ]
    },
    {
      "cell_type": "code",
      "source": [
        "acc = history.history['acc']\n",
        "val_acc = history.history['val_acc']\n",
        "loss = history.history['loss']\n",
        "val_loss = history.history['val_loss']\n",
        "\n",
        "epochs = range(1, len(acc) + 1)\n",
        "\n",
        "plt.plot(epochs, acc, 'bo', label='Точність на тренуванні')  # Графік точності на тренувальних данних\n",
        "plt.plot(epochs, val_acc, 'b', label='Точність на валідації')  # Графік точності на валідаційних данних\n",
        "plt.title('Точність тренування і валідації')  # Заголовок графіку\n",
        "plt.legend()  # Показати легенду\n",
        "\n",
        "plt.figure()\n",
        "\n",
        "plt.plot(epochs, loss, 'bo', label='Втрати на тренуванні')  # Графік втрат на тренувальних данних\n",
        "plt.plot(epochs, val_loss, 'b', label='Втрати на валідації')  # Графік втрат на валідаційних данних\n",
        "plt.title('Втрати тренування і валідації')  # Заголовок графіку\n",
        "plt.legend()  # Показати легенду\n",
        "\n",
        "plt.show()  # Відобразити графіки\n",
        "\n"
      ],
      "metadata": {
        "colab": {
          "base_uri": "https://localhost:8080/",
          "height": 887
        },
        "id": "Wjv5OutUOzux",
        "outputId": "aea01def-84db-42d2-f245-915583e0d764"
      },
      "execution_count": 19,
      "outputs": [
        {
          "output_type": "display_data",
          "data": {
            "text/plain": [
              "<Figure size 640x480 with 1 Axes>"
            ],
            "image/png": "[encoded data removed]"
          },
          "metadata": {}
        },
        {
          "output_type": "display_data",
          "data": {
            "text/plain": [
              "<Figure size 640x480 with 1 Axes>"
            ],
            "image/png": "[encoded data removed]"
          },
          "metadata": {}
        }
      ]
    },
    {
      "cell_type": "code",
      "source": [
        "predictions = model.predict(input_test)\n",
        "\n",
        "# Для отримання зрозумілішого вигляду прогнозів, перетворюємо в бінарний формат:\n",
        "binary_predictions = [1 if pred > 0.5 else 0 for pred in predictions]\n",
        "\n",
        "# Для порівняння виведемо деякі прогнозовані значення поряд з фактичними значеннями\n",
        "for i in range(10):\n",
        "    print(f\"Прогнозоване: {binary_predictions[i]}, Фактичне: {y_test[i]}\")\n",
        "\n",
        "# Додатковий крок: Оцінка моделі\n",
        "# Це дасть загальну точність моделі на тестових даних\n",
        "test_loss, test_acc = model.evaluate(input_test, y_test)\n",
        "print('Test Loss: {}'.format(test_loss))\n",
        "print('Test Accuracy: {}'.format(test_acc))\n"
      ],
      "metadata": {
        "colab": {
          "base_uri": "https://localhost:8080/"
        },
        "id": "S6O1qg9xlEmK",
        "outputId": "336d5034-7168-43b6-f03a-7d99b50ced64"
      },
      "execution_count": 20,
      "outputs": [
        {
          "output_type": "stream",
          "name": "stdout",
          "text": [
            "782/782 [==============================] - 7s 9ms/step\n",
            "Прогнозоване: 0, Фактичне: 0\n",
            "Прогнозоване: 1, Фактичне: 1\n",
            "Прогнозоване: 1, Фактичне: 1\n",
            "Прогнозоване: 0, Фактичне: 0\n",
            "Прогнозоване: 1, Фактичне: 1\n",
            "Прогнозоване: 1, Фактичне: 1\n",
            "Прогнозоване: 1, Фактичне: 1\n",
            "Прогнозоване: 0, Фактичне: 0\n",
            "Прогнозоване: 1, Фактичне: 0\n",
            "Прогнозоване: 1, Фактичне: 1\n",
            "782/782 [==============================] - 6s 8ms/step - loss: 0.3039 - acc: 0.8732\n",
            "Test Loss: 0.3038644790649414\n",
            "Test Accuracy: 0.8731600046157837\n"
          ]
        }
      ]
    },
    {
      "cell_type": "markdown",
      "source": [
        "модель LSTM навчається скоріше та має кращу точність при одинакових параметрах, спробуємо додати Bidirectional та збільшити глибину моделі"
      ],
      "metadata": {
        "id": "S3-zi_8CWWns"
      }
    },
    {
      "cell_type": "code",
      "source": [
        "from keras.layers import Bidirectional"
      ],
      "metadata": {
        "id": "W9bWaamIWnXG"
      },
      "execution_count": 21,
      "outputs": []
    },
    {
      "cell_type": "code",
      "source": [
        "max_features = 10000  # кількість слів, що розглядаються як особливості\n",
        "maxlen = 500  # обмеження кількості слів в тексті\n",
        "batch_size = 32"
      ],
      "metadata": {
        "id": "qkMWVuEDnC7h"
      },
      "execution_count": 22,
      "outputs": []
    },
    {
      "cell_type": "code",
      "source": [
        "(input_train, y_train), (input_test, y_test) = imdb.load_data(num_words=max_features)"
      ],
      "metadata": {
        "id": "qV58NXvOWvZ4"
      },
      "execution_count": 23,
      "outputs": []
    },
    {
      "cell_type": "code",
      "source": [
        "input_train = pad_sequences(input_train, maxlen=maxlen)\n",
        "input_test = pad_sequences(input_test, maxlen=maxlen)"
      ],
      "metadata": {
        "id": "eXKEy7VnnRuA"
      },
      "execution_count": 25,
      "outputs": []
    },
    {
      "cell_type": "code",
      "source": [
        "model = Sequential()\n",
        "model.add(Embedding(max_features, 32))\n",
        "model.add(Bidirectional(LSTM(32, return_sequences=True)))  # додали Bidirectional LSTM\n",
        "model.add(LSTM(64, return_sequences=True))  # додали другий LSTM шар\n",
        "model.add(LSTM(32))  # додали третій LSTM шар\n",
        "model.add(Dense(1, activation='sigmoid'))"
      ],
      "metadata": {
        "id": "SkspUbM0naa4"
      },
      "execution_count": 26,
      "outputs": []
    },
    {
      "cell_type": "code",
      "source": [
        "model.compile(optimizer='rmsprop', loss='binary_crossentropy', metrics=['acc'])"
      ],
      "metadata": {
        "id": "AKsU2lZinaUK"
      },
      "execution_count": 27,
      "outputs": []
    },
    {
      "cell_type": "code",
      "source": [
        "model.summary()"
      ],
      "metadata": {
        "colab": {
          "base_uri": "https://localhost:8080/"
        },
        "id": "qHcwC7OYni_Z",
        "outputId": "0efe8c5b-a476-4f17-9a66-8fed10a6e208"
      },
      "execution_count": 28,
      "outputs": [
        {
          "output_type": "stream",
          "name": "stdout",
          "text": [
            "Model: \"sequential_2\"\n",
            "_________________________________________________________________\n",
            " Layer (type)                Output Shape              Param #   \n",
            "=================================================================\n",
            " embedding_2 (Embedding)     (None, None, 32)          320000    \n",
            "                                                                 \n",
            " bidirectional (Bidirection  (None, None, 64)          16640     \n",
            " al)                                                             \n",
            "                                                                 \n",
            " lstm_2 (LSTM)               (None, None, 64)          33024     \n",
            "                                                                 \n",
            " lstm_3 (LSTM)               (None, 32)                12416     \n",
            "                                                                 \n",
            " dense_2 (Dense)             (None, 1)                 33        \n",
            "                                                                 \n",
            "=================================================================\n",
            "Total params: 382113 (1.46 MB)\n",
            "Trainable params: 382113 (1.46 MB)\n",
            "Non-trainable params: 0 (0.00 Byte)\n",
            "_________________________________________________________________\n"
          ]
        }
      ]
    },
    {
      "cell_type": "code",
      "source": [
        "history = model.fit(input_train, y_train, epochs=5, batch_size=128, validation_split=0.3)"
      ],
      "metadata": {
        "colab": {
          "base_uri": "https://localhost:8080/"
        },
        "id": "PV7rTF6wnmKo",
        "outputId": "204caae7-6ea1-45c3-e42f-a636eace106c"
      },
      "execution_count": 29,
      "outputs": [
        {
          "output_type": "stream",
          "name": "stdout",
          "text": [
            "Epoch 1/5\n",
            "137/137 [==============================] - 26s 146ms/step - loss: 0.6348 - acc: 0.6044 - val_loss: 0.4264 - val_acc: 0.8117\n",
            "Epoch 2/5\n",
            "137/137 [==============================] - 16s 116ms/step - loss: 0.3746 - acc: 0.8411 - val_loss: 0.3549 - val_acc: 0.8456\n",
            "Epoch 3/5\n",
            "137/137 [==============================] - 15s 108ms/step - loss: 0.2738 - acc: 0.8917 - val_loss: 0.3107 - val_acc: 0.8640\n",
            "Epoch 4/5\n",
            "137/137 [==============================] - 16s 114ms/step - loss: 0.2228 - acc: 0.9155 - val_loss: 0.3339 - val_acc: 0.8723\n",
            "Epoch 5/5\n",
            "137/137 [==============================] - 14s 102ms/step - loss: 0.1826 - acc: 0.9334 - val_loss: 0.3392 - val_acc: 0.8728\n"
          ]
        }
      ]
    },
    {
      "cell_type": "code",
      "source": [
        "predictions = model.predict(input_test)\n",
        "\n",
        "# Для отримання зрозумілішого вигляду прогнозів, перетворюємо в бінарний формат:\n",
        "binary_predictions = [1 if pred > 0.5 else 0 for pred in predictions]\n",
        "\n",
        "# Для порівняння виведемо деякі прогнозовані значення поряд з фактичними значеннями\n",
        "for i in range(10):\n",
        "    print(f\"Прогнозоване: {binary_predictions[i]}, Фактичне: {y_test[i]}\")\n",
        "\n",
        "# Додатковий крок: Оцінка моделі\n",
        "# Це дасть загальну точність моделі на тестових даних\n",
        "test_loss, test_acc = model.evaluate(input_test, y_test)\n",
        "print('Test Loss: {}'.format(test_loss))\n",
        "print('Test Accuracy: {}'.format(test_acc))"
      ],
      "metadata": {
        "colab": {
          "base_uri": "https://localhost:8080/"
        },
        "id": "dl0Sn4sZn_1H",
        "outputId": "c279f06c-cbf5-4bd2-e26f-e7280eb61978"
      },
      "execution_count": 30,
      "outputs": [
        {
          "output_type": "stream",
          "name": "stdout",
          "text": [
            "782/782 [==============================] - 23s 27ms/step\n",
            "Прогнозоване: 0, Фактичне: 0\n",
            "Прогнозоване: 1, Фактичне: 1\n",
            "Прогнозоване: 1, Фактичне: 1\n",
            "Прогнозоване: 1, Фактичне: 0\n",
            "Прогнозоване: 1, Фактичне: 1\n",
            "Прогнозоване: 1, Фактичне: 1\n",
            "Прогнозоване: 1, Фактичне: 1\n",
            "Прогнозоване: 0, Фактичне: 0\n",
            "Прогнозоване: 1, Фактичне: 0\n",
            "Прогнозоване: 1, Фактичне: 1\n",
            "782/782 [==============================] - 22s 29ms/step - loss: 0.3532 - acc: 0.8670\n",
            "Test Loss: 0.35320112109184265\n",
            "Test Accuracy: 0.8670399785041809\n"
          ]
        }
      ]
    },
    {
      "cell_type": "markdown",
      "source": [
        "Найкращу точність показала модель LSTM, збільшення глибини не покращило результат"
      ],
      "metadata": {
        "id": "PK65gYjjoUp2"
      }
    }
  ]
}