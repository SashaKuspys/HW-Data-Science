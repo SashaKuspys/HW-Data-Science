{
  "nbformat": 4,
  "nbformat_minor": 0,
  "metadata": {
    "colab": {
      "provenance": []
    },
    "kernelspec": {
      "name": "python3",
      "display_name": "Python 3"
    },
    "language_info": {
      "name": "python"
    }
  },
  "cells": [
    {
      "cell_type": "code",
      "execution_count": 12,
      "metadata": {
        "id": "NmdWKciEzI1h"
      },
      "outputs": [],
      "source": [
        "import tensorflow as tf\n",
        "import numpy as np\n",
        "import pandas as pd\n",
        "import matplotlib.pyplot as plt\n",
        "import random\n",
        "import keras as K\n",
        "import seaborn as sns\n",
        "from sklearn.metrics import confusion_matrix"
      ]
    },
    {
      "cell_type": "code",
      "source": [
        "num_classes = 10 # загальна кількість класів, у нашому випадку це цифри від 0 до 9\n",
        "num_features = 784 # кількість атрибутів вхідного вектора 28 * 28 = 784\n",
        "\n",
        "learning_rate = 0.001 # швидкість навчання нейронної мережі\n",
        "training_steps = 3000 # максимальне число епох\n",
        "batch_size = 256 # перераховувати ваги мережі ми будемо не на всій вибірці, а на її випадковій підмножині з batch_size елементів\n",
        "display_step = 100 # кожні 100 ітерацій ми будемо показувати поточне значення функції втрат і точності\n",
        "\n",
        "n_hidden_1 = 128 # кількість нейронів 1-го шару\n",
        "n_hidden_2 = 256 # кількість нейронів 2-го шару"
      ],
      "metadata": {
        "id": "oIR6PntOztPY"
      },
      "execution_count": 19,
      "outputs": []
    },
    {
      "cell_type": "code",
      "source": [
        "# from tensorflow.keras.datasets import mnist\n",
        "from keras.datasets import mnist\n",
        "\n",
        "# Завантажуємо датасет\n",
        "(x_train, y_train), (x_test, y_test) = mnist.load_data()\n",
        "\n",
        "# Перетворюємо цілочисельні пікселі на тип float32\n",
        "x_train, x_test = np.array(x_train, np.float32), np.array(x_test, np.float32)\n",
        "\n",
        "# Перетворюємо матриці розміром 28x28 пікселів у вектор з 784 елементів\n",
        "x_train, x_test = x_train.reshape([-1, num_features]), x_test.reshape([-1, num_features])\n",
        "\n",
        "# Нормалізуємо значення пікселів\n",
        "x_train, x_test = x_train / 255., x_test / 255.\n",
        "\n",
        "# Перемішаємо тренувальні дані\n",
        "train_data = tf.data.Dataset.from_tensor_slices((x_train, y_train))\n",
        "train_data = train_data.repeat().shuffle(5000).batch(batch_size).prefetch(1)"
      ],
      "metadata": {
        "id": "qfHXQpJc0A-1"
      },
      "execution_count": 20,
      "outputs": []
    },
    {
      "cell_type": "code",
      "source": [
        "# Створимо нейронну мережу\n",
        "\n",
        "class DenseLayer(tf.Module):\n",
        "    def __init__(self, in_features, out_features, name=None):\n",
        "        super().__init__(name=name)\n",
        "        self.w = tf.Variable(\n",
        "            tf.random.normal([in_features, out_features]), name=\"w\"\n",
        "        )\n",
        "        self.b = tf.Variable(tf.zeros([out_features]), name=\"b\")\n",
        "\n",
        "    def __call__(self, x, activation=0):\n",
        "        y = tf.matmul(x, self.w) + self.b\n",
        "        if activation != 0:\n",
        "            return tf.nn.softmax(y)\n",
        "        else:\n",
        "            return tf.nn.sigmoid(y)\n",
        "\n",
        "class NN(tf.Module):\n",
        "  def __init__(self, name=None):\n",
        "    super().__init__(name=name)\n",
        "    # Перший шар, який складається з 128 нейронів\n",
        "    self.layer1 = DenseLayer(num_features, n_hidden_1, name=\"layer1\")\n",
        "    # Другий шар, який складається з 256 нейронів\n",
        "    self.layer2 = DenseLayer(n_hidden_1, n_hidden_2, name=\"layer2\")\n",
        "    # Вихідний шар\n",
        "    self.out_layer = DenseLayer(n_hidden_2, num_classes, name=\"out_layer\")\n",
        "\n",
        "\n",
        "  def __call__(self, x):\n",
        "    # Передача даних через перші два шари та вихідний шар з функцією активації softmax\n",
        "    x = self.layer1(x)\n",
        "    x = self.layer2(x)\n",
        "    x = self.out_layer(x, activation=1)\n",
        "\n",
        "\n",
        "    return x"
      ],
      "metadata": {
        "id": "h0nOU5_50M4l"
      },
      "execution_count": 21,
      "outputs": []
    },
    {
      "cell_type": "code",
      "source": [
        "# В якості функції помилки в даному випадку зручно взяти крос-ентропію\n",
        "def cross_entropy(y_pred, y_true):\n",
        "    # Закодувати label в one hot vector\n",
        "    y_true = tf.one_hot(y_true, depth=num_classes)\n",
        "\n",
        "    # Значення передбачення, щоб уникнути помилки log(0).\n",
        "    y_pred = tf.clip_by_value(y_pred, 1e-9, 1.)\n",
        "\n",
        "    # Обчислення крос-ентропії\n",
        "    return tf.reduce_mean(-tf.reduce_sum(y_true * tf.math.log(y_pred)))\n",
        "\n",
        "# Як метрику якості використовуємо точність\n",
        "def accuracy(y_pred, y_true):\n",
        "    # Порівняння міток класів\n",
        "    correct_prediction = tf.equal(tf.argmax(y_pred, 1), tf.cast(y_true, tf.int64))\n",
        "    # Обчислення точності\n",
        "    return tf.reduce_mean(tf.cast(correct_prediction, tf.float32))"
      ],
      "metadata": {
        "id": "xmmbTiAY0aTK"
      },
      "execution_count": 22,
      "outputs": []
    },
    {
      "cell_type": "code",
      "source": [
        "# Створимо екземпляр нейронної мережі\n",
        "neural_net = NN(name=\"mnist\")\n",
        "\n",
        "# Функція навчання нейромережі\n",
        "def train(neural_net, input_x, output_y):\n",
        "  # Для налаштування вагів мережі будемо використовувати стохастичний градієнтний спуск\n",
        "  optimizer = tf.optimizers.SGD(learning_rate)\n",
        "\n",
        "  # Активація автоматичного диференціювання\n",
        "  with tf.GradientTape() as g:\n",
        "    pred = neural_net(input_x)\n",
        "    loss = cross_entropy(pred, output_y)\n",
        "\n",
        "    # Отримаємо список оптимізованих параметрів\n",
        "    trainable_variables = neural_net.trainable_variables\n",
        "    # Обчислимо за ними значення градієнта\n",
        "    gradients = g.gradient(loss, trainable_variables)\n",
        "\n",
        "    # Модифікуємо параметри\n",
        "    optimizer.apply_gradients(zip(gradients, trainable_variables))\n"
      ],
      "metadata": {
        "id": "W1FDOE3d0x4J"
      },
      "execution_count": 23,
      "outputs": []
    },
    {
      "cell_type": "code",
      "source": [
        "# Тренування мережі\n",
        "\n",
        "loss_history = []  # кожні display_step кроків зберігай в цьому списку поточну помилку нейромережі\n",
        "accuracy_history = [] # кожні display_step кроків зберігай в цьому списку поточну точність нейромережі\n",
        "\n",
        "# У цьому циклі ми будемо проводити навчання нейронної мережі\n",
        "# із тренувального датасета train_data вилучи випадкову підмножину, на якій\n",
        "# відбудеться тренування. Використовуй метод take, доступний для тренувального датасета.\n",
        "for step, (batch_x, batch_y) in enumerate(train_data.take(training_steps), 1):\n",
        "    # Оновлюємо ваги нейронної мережі\n",
        "    train(neural_net, batch_x, batch_y)\n",
        "\n",
        "    if step % display_step == 0:\n",
        "        pred = neural_net(batch_x)\n",
        "        loss = cross_entropy(pred, batch_y)\n",
        "        acc = accuracy(pred, batch_y)\n",
        "        loss_history.append(loss)\n",
        "        accuracy_history.append(acc)\n",
        "        print(f\"Step {step}, loss: {loss}, accuracy: {acc}\")"
      ],
      "metadata": {
        "colab": {
          "base_uri": "https://localhost:8080/"
        },
        "id": "vcHISsK006nA",
        "outputId": "ccd379cb-c37e-4917-e693-332870eec3e0"
      },
      "execution_count": 24,
      "outputs": [
        {
          "output_type": "stream",
          "name": "stdout",
          "text": [
            "Step 100, loss: 282.57098388671875, accuracy: 0.6640625\n",
            "Step 200, loss: 260.6849060058594, accuracy: 0.7109375\n",
            "Step 300, loss: 183.97244262695312, accuracy: 0.8125\n",
            "Step 400, loss: 141.4664306640625, accuracy: 0.8125\n",
            "Step 500, loss: 97.38873291015625, accuracy: 0.85546875\n",
            "Step 600, loss: 160.30360412597656, accuracy: 0.84765625\n",
            "Step 700, loss: 140.97418212890625, accuracy: 0.84375\n",
            "Step 800, loss: 105.40203857421875, accuracy: 0.88671875\n",
            "Step 900, loss: 119.63047790527344, accuracy: 0.86328125\n",
            "Step 1000, loss: 82.09989929199219, accuracy: 0.91796875\n",
            "Step 1100, loss: 106.25546264648438, accuracy: 0.87109375\n",
            "Step 1200, loss: 88.7196044921875, accuracy: 0.88671875\n",
            "Step 1300, loss: 64.53364562988281, accuracy: 0.91015625\n",
            "Step 1400, loss: 73.15730285644531, accuracy: 0.90625\n",
            "Step 1500, loss: 56.430702209472656, accuracy: 0.921875\n",
            "Step 1600, loss: 102.19229125976562, accuracy: 0.8828125\n",
            "Step 1700, loss: 93.14891815185547, accuracy: 0.90625\n",
            "Step 1800, loss: 74.48751831054688, accuracy: 0.92578125\n",
            "Step 1900, loss: 62.95207214355469, accuracy: 0.92578125\n",
            "Step 2000, loss: 70.64485168457031, accuracy: 0.91796875\n",
            "Step 2100, loss: 65.42494201660156, accuracy: 0.9140625\n",
            "Step 2200, loss: 85.59170532226562, accuracy: 0.9140625\n",
            "Step 2300, loss: 71.99864196777344, accuracy: 0.921875\n",
            "Step 2400, loss: 67.29312133789062, accuracy: 0.92578125\n",
            "Step 2500, loss: 63.36697006225586, accuracy: 0.9296875\n",
            "Step 2600, loss: 52.009979248046875, accuracy: 0.9375\n",
            "Step 2700, loss: 53.40277862548828, accuracy: 0.91015625\n",
            "Step 2800, loss: 69.41954803466797, accuracy: 0.9453125\n",
            "Step 2900, loss: 66.6050033569336, accuracy: 0.93359375\n",
            "Step 3000, loss: 58.00811767578125, accuracy: 0.91796875\n"
          ]
        }
      ]
    },
    {
      "cell_type": "code",
      "source": [
        "# Виведіть графіки залежності зміни точності і втрат від кроку\n",
        "# Якщо все зроблено правильно, то точність повинна зростати, а втрати зменшуватись\n",
        "\n",
        "import matplotlib.pyplot as plt\n",
        "\n",
        "# Виведіть графік функції втрат\n",
        "plt.plot(loss_history, label='Loss')\n",
        "plt.title('Зміна функції втрат')\n",
        "plt.xlabel('Крок')\n",
        "plt.ylabel('Втрати')\n",
        "plt.legend()\n",
        "plt.show()\n",
        "\n",
        "# Виведіть графік точності\n",
        "plt.plot(accuracy_history, label='Accuracy', color='orange')\n",
        "plt.title('Зміна точності')\n",
        "plt.xlabel('Крок')\n",
        "plt.ylabel('Точність')\n",
        "plt.legend()\n",
        "plt.show()"
      ],
      "metadata": {
        "colab": {
          "base_uri": "https://localhost:8080/",
          "height": 927
        },
        "id": "dDXahyFR09VR",
        "outputId": "7eb2703d-19f1-43b6-cc3f-9dbd6739df8c"
      },
      "execution_count": 25,
      "outputs": [
        {
          "output_type": "display_data",
          "data": {
            "text/plain": [
              "<Figure size 640x480 with 1 Axes>"
            ],
            "image/png": "[encoded data removed]"
          },
          "metadata": {}
        },
        {
          "output_type": "display_data",
          "data": {
            "text/plain": [
              "<Figure size 640x480 with 1 Axes>"
            ],
            "image/png": "[encoded data removed]"
          },
          "metadata": {}
        }
      ]
    },
    {
      "cell_type": "code",
      "source": [
        "# Обчисліть точність навченої нейромережі\n",
        "def compute_accuracy(neural_net, test_x, test_y):\n",
        "    pred = neural_net(test_x)\n",
        "    correct_predictions = tf.equal(tf.argmax(pred, 1), tf.cast(test_y, tf.int64))\n",
        "    return tf.reduce_mean(tf.cast(correct_predictions, tf.float32))\n",
        "\n",
        "accuracy = compute_accuracy(neural_net, x_test, y_test)\n",
        "print(\"Точність навченої нейромережі:\", accuracy.numpy())\n",
        "\n",
        "# Тестування моделі на тестових даних\n",
        "test_accuracy = compute_accuracy(neural_net, x_test, y_test)\n",
        "print(\"Точність на тестових даних:\", test_accuracy.numpy())"
      ],
      "metadata": {
        "colab": {
          "base_uri": "https://localhost:8080/"
        },
        "id": "-hmhBEOs0_xQ",
        "outputId": "17b1bb81-d5dc-48af-cbd4-462a92076eb0"
      },
      "execution_count": 26,
      "outputs": [
        {
          "output_type": "stream",
          "name": "stdout",
          "text": [
            "Точність навченої нейромережі: 0.8999\n",
            "Точність на тестових даних: 0.8999\n"
          ]
        }
      ]
    },
    {
      "cell_type": "code",
      "source": [
        "# Протестуйте навчену нейромережу на 10 зображеннях. З тестової вибірки візьміть 5\n",
        "# випадкових зображень і передайте їх у нейронну мережу.\n",
        "# Виведіть зображення та випишіть  поруч відповідь нейромережі.\n",
        "# Зробіть висновок про те, чи помиляється твоя нейронна мережа, і якщо так, то як часто?\n",
        "\n",
        "import random\n",
        "\n",
        "# Випадковим чином вибираємо 5 індексів зображень з тестового набору даних\n",
        "random_indices = random.sample(range(len(x_test)), 5)\n",
        "\n",
        "# Прогнозування класів для вибраних зображень\n",
        "predictions = neural_net(x_test[random_indices])\n",
        "\n",
        "# Виведення зображень та передбачень\n",
        "for i, idx in enumerate(random_indices):\n",
        "    image = x_test[idx].reshape((28, 28))\n",
        "    plt.imshow(image, cmap='gray')\n",
        "    plt.axis('off')\n",
        "    plt.show()\n",
        "    print(\"Передбачення нейронної мережі:\", tf.argmax(predictions[i]).numpy())\n",
        "\n",
        "\n"
      ],
      "metadata": {
        "colab": {
          "base_uri": "https://localhost:8080/",
          "height": 1000
        },
        "id": "ddjpWX4A1C67",
        "outputId": "5a1a095e-b0eb-4900-c705-0443b57e6929"
      },
      "execution_count": 27,
      "outputs": [
        {
          "output_type": "display_data",
          "data": {
            "text/plain": [
              "<Figure size 640x480 with 1 Axes>"
            ],
            "image/png": "[encoded data removed]"
          },
          "metadata": {}
        },
        {
          "output_type": "stream",
          "name": "stdout",
          "text": [
            "Передбачення нейронної мережі: 3\n"
          ]
        },
        {
          "output_type": "display_data",
          "data": {
            "text/plain": [
              "<Figure size 640x480 with 1 Axes>"
            ],
            "image/png": "[encoded data removed]"
          },
          "metadata": {}
        },
        {
          "output_type": "stream",
          "name": "stdout",
          "text": [
            "Передбачення нейронної мережі: 9\n"
          ]
        },
        {
          "output_type": "display_data",
          "data": {
            "text/plain": [
              "<Figure size 640x480 with 1 Axes>"
            ],
            "image/png": "[encoded data removed]"
          },
          "metadata": {}
        },
        {
          "output_type": "stream",
          "name": "stdout",
          "text": [
            "Передбачення нейронної мережі: 8\n"
          ]
        },
        {
          "output_type": "display_data",
          "data": {
            "text/plain": [
              "<Figure size 640x480 with 1 Axes>"
            ],
            "image/png": "[encoded data removed]"
          },
          "metadata": {}
        },
        {
          "output_type": "stream",
          "name": "stdout",
          "text": [
            "Передбачення нейронної мережі: 1\n"
          ]
        },
        {
          "output_type": "display_data",
          "data": {
            "text/plain": [
              "<Figure size 640x480 with 1 Axes>"
            ],
            "image/png": "[encoded data removed]"
          },
          "metadata": {}
        },
        {
          "output_type": "stream",
          "name": "stdout",
          "text": [
            "Передбачення нейронної мережі: 6\n"
          ]
        }
      ]
    },
    {
      "cell_type": "code",
      "source": [
        "from sklearn.metrics import classification_report\n",
        "\n",
        "# Отримуємо передбачення для тестових даних\n",
        "y_pred = neural_net(x_test)\n",
        "\n",
        "# Перетворюємо передбачення у масив індексів класів\n",
        "y_pred_classes = tf.argmax(y_pred, axis=1)\n",
        "\n",
        "# Виведення метрик якості для кожного класу\n",
        "print(classification_report(y_test, y_pred_classes))\n"
      ],
      "metadata": {
        "colab": {
          "base_uri": "https://localhost:8080/"
        },
        "id": "jVIDdX-5Lqlt",
        "outputId": "4f020e3c-2d54-4e61-ad78-92efeb97dcd7"
      },
      "execution_count": 28,
      "outputs": [
        {
          "output_type": "stream",
          "name": "stdout",
          "text": [
            "              precision    recall  f1-score   support\n",
            "\n",
            "           0       0.94      0.95      0.95       980\n",
            "           1       0.98      0.97      0.97      1135\n",
            "           2       0.91      0.88      0.89      1032\n",
            "           3       0.85      0.89      0.87      1010\n",
            "           4       0.89      0.90      0.90       982\n",
            "           5       0.85      0.87      0.86       892\n",
            "           6       0.93      0.91      0.92       958\n",
            "           7       0.88      0.92      0.90      1028\n",
            "           8       0.86      0.86      0.86       974\n",
            "           9       0.90      0.83      0.87      1009\n",
            "\n",
            "    accuracy                           0.90     10000\n",
            "   macro avg       0.90      0.90      0.90     10000\n",
            "weighted avg       0.90      0.90      0.90     10000\n",
            "\n"
          ]
        }
      ]
    }
  ]
}