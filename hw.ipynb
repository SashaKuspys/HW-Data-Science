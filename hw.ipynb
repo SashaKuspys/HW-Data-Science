{
 "cells": [
  {
   "cell_type": "code",
   "execution_count": 1,
   "metadata": {},
   "outputs": [
    {
     "name": "stdout",
     "output_type": "stream",
     "text": [
      "[ 1  2  3  4  5  6  7  8  9 10]\n"
     ]
    }
   ],
   "source": [
    "import numpy as np\n",
    "a = np.array([1, 2, 3, 4, 5, 6, 7, 8, 9, 10])\n",
    "\n",
    "print(a)\n"
   ]
  },
  {
   "cell_type": "code",
   "execution_count": 14,
   "metadata": {},
   "outputs": [],
   "source": [
    "matrix = np.zeros((3, 3))"
   ]
  },
  {
   "cell_type": "code",
   "execution_count": 3,
   "metadata": {},
   "outputs": [
    {
     "name": "stdout",
     "output_type": "stream",
     "text": [
      "[[ 9  6  5  4  5]\n",
      " [ 1  2  6  9  1]\n",
      " [ 6  6  1  1 10]\n",
      " [ 6 10  1  7  4]\n",
      " [ 9  9  2  4  7]]\n"
     ]
    }
   ],
   "source": [
    "array = np.random.randint(1, 11, size=(5, 5), dtype=int)\n",
    "\n",
    "print(array)"
   ]
  },
  {
   "cell_type": "code",
   "execution_count": 4,
   "metadata": {},
   "outputs": [
    {
     "name": "stdout",
     "output_type": "stream",
     "text": [
      "[[0.28002359 0.15520698 0.88377809 0.38841375]\n",
      " [0.13628775 0.10653081 0.16309062 0.41381554]\n",
      " [0.81167894 0.64821314 0.84255466 0.5786306 ]\n",
      " [0.94914817 0.21920561 0.22576691 0.30554603]]\n"
     ]
    }
   ],
   "source": [
    "array_float = np.random.rand(4, 4)\n",
    "\n",
    "print(array_float)"
   ]
  },
  {
   "cell_type": "code",
   "execution_count": 5,
   "metadata": {},
   "outputs": [
    {
     "name": "stdout",
     "output_type": "stream",
     "text": [
      "[[14 19 10 13  9]\n",
      " [13 13 10 11 11]\n",
      " [19 14 11 15 16]\n",
      " [15 10 15  4 10]\n",
      " [11  6  6 13 11]]\n",
      "[[-4 -1 -2  5  1]\n",
      " [-3  7  8  5 -3]\n",
      " [ 1  0  1 -3  2]\n",
      " [-5 -6 -1  0 -8]\n",
      " [ 7 -4 -2  7  1]]\n",
      "[[45 90 24 36 20]\n",
      " [40 30  9 24 28]\n",
      " [90 49 30 54 63]\n",
      " [50 16 56  4  9]\n",
      " [18  5  8 30 30]]\n"
     ]
    }
   ],
   "source": [
    "a = np.random.randint(1, 11, size=(5, 5), dtype=int)\n",
    "b = np.random.randint(1, 11, size=(5, 5), dtype=int)\n",
    "\n",
    "print (a + b)\n",
    "print (a - b)\n",
    "print (a * b)\n"
   ]
  },
  {
   "cell_type": "code",
   "execution_count": 6,
   "metadata": {},
   "outputs": [
    {
     "name": "stdout",
     "output_type": "stream",
     "text": [
      "140\n"
     ]
    }
   ],
   "source": [
    "a = np.array([1, 2, 3, 4, 5, 6, 7])\n",
    "b = np.array([1, 2, 3, 4, 5, 6, 7])\n",
    "print(np.dot(a, b))"
   ]
  },
  {
   "cell_type": "code",
   "execution_count": 7,
   "metadata": {},
   "outputs": [
    {
     "name": "stdout",
     "output_type": "stream",
     "text": [
      "[[ 31  32  43]\n",
      " [105  85 126]]\n"
     ]
    }
   ],
   "source": [
    "matrix1 = np.random.randint(1, 11, size=(2, 2))\n",
    "matrix2 = np.random.randint(1, 11, size=(2, 3))\n",
    "\n",
    "print(np.dot(matrix1, matrix2))\n"
   ]
  },
  {
   "cell_type": "code",
   "execution_count": 8,
   "metadata": {},
   "outputs": [
    {
     "name": "stdout",
     "output_type": "stream",
     "text": [
      "[[-0.16176471  0.29411765 -0.01470588]\n",
      " [ 0.33823529 -0.20588235 -0.01470588]\n",
      " [-0.04411765 -0.14705882  0.13235294]]\n"
     ]
    }
   ],
   "source": [
    "matrix_1 = np.random.randint(1, 11, size=(3, 3))\n",
    "\n",
    "a_inv = np.linalg.inv(matrix_1)\n",
    "print(a_inv)"
   ]
  },
  {
   "cell_type": "code",
   "execution_count": 9,
   "metadata": {},
   "outputs": [
    {
     "name": "stdout",
     "output_type": "stream",
     "text": [
      "[[ 1  2  3  4]\n",
      " [ 5  6  7  8]\n",
      " [ 9 10  1  2]]\n",
      "[[ 1  5  9]\n",
      " [ 2  6 10]\n",
      " [ 3  7  1]\n",
      " [ 4  8  2]]\n"
     ]
    }
   ],
   "source": [
    "a = np.array([[1, 2, 3, 4],\n",
    "              [5, 6, 7, 8],\n",
    "              [9, 10, 1, 2]])\n",
    "\n",
    "print(a)\n",
    "b = a.T\n",
    "print(b)"
   ]
  },
  {
   "cell_type": "code",
   "execution_count": 10,
   "metadata": {},
   "outputs": [
    {
     "name": "stdout",
     "output_type": "stream",
     "text": [
      "[140 169 105]\n"
     ]
    }
   ],
   "source": [
    "matrix = np.random.randint(1, 11, size=(3, 4), dtype=int)\n",
    "vector = np.random.randint(1, 11, size=4, dtype=int)\n",
    "\n",
    "print(np.dot(matrix, vector))"
   ]
  },
  {
   "cell_type": "code",
   "execution_count": 11,
   "metadata": {},
   "outputs": [
    {
     "name": "stdout",
     "output_type": "stream",
     "text": [
      "[0.22003389 0.90501895]\n"
     ]
    }
   ],
   "source": [
    "matrix = np.random.rand(2, 3)\n",
    "vector = np.random.rand(3)\n",
    "\n",
    "print(np.dot(matrix, vector))"
   ]
  },
  {
   "cell_type": "code",
   "execution_count": 12,
   "metadata": {},
   "outputs": [
    {
     "name": "stdout",
     "output_type": "stream",
     "text": [
      "[[72 16]\n",
      " [24 28]]\n"
     ]
    }
   ],
   "source": [
    "matrix_1 = np.random.randint(1, 11, size=(2, 2), dtype=int)\n",
    "matrix_2 = np.random.randint(1, 11, size=(2, 2), dtype=int)\n",
    "\n",
    "print(np.multiply(matrix_1, matrix_2))"
   ]
  },
  {
   "cell_type": "code",
   "execution_count": 13,
   "metadata": {},
   "outputs": [
    {
     "name": "stdout",
     "output_type": "stream",
     "text": [
      "[[47 89]\n",
      " [50 78]]\n"
     ]
    }
   ],
   "source": [
    "matrix1 = np.random.randint(1, 11, size=(2, 2), dtype=int)\n",
    "matrix2 = np.random.randint(1, 11, size=(2, 2), dtype=int)\n",
    "\n",
    "print(np.dot(matrix1, matrix2))"
   ]
  },
  {
   "cell_type": "code",
   "execution_count": 15,
   "metadata": {},
   "outputs": [
    {
     "name": "stdout",
     "output_type": "stream",
     "text": [
      "1392\n"
     ]
    }
   ],
   "source": [
    "matrix = np.random.randint(1, 101, size=(5, 5), dtype=int)\n",
    "print(matrix.sum())"
   ]
  },
  {
   "cell_type": "code",
   "execution_count": 16,
   "metadata": {},
   "outputs": [
    {
     "name": "stdout",
     "output_type": "stream",
     "text": [
      "[[ 2 -9 -2  3]\n",
      " [ 1  4  2 -3]\n",
      " [ 3 -4 -3 -2]\n",
      " [ 1  4  0 -5]]\n"
     ]
    }
   ],
   "source": [
    "matrix1 = np.random.randint(1, 11, size=(4, 4), dtype=int)\n",
    "matrix2 = np.random.randint(1, 11, size=(4, 4), dtype=int)\n",
    "\n",
    "print(np.subtract(matrix1, matrix2))"
   ]
  },
  {
   "cell_type": "code",
   "execution_count": 17,
   "metadata": {},
   "outputs": [
    {
     "name": "stdout",
     "output_type": "stream",
     "text": [
      "[[0.8427489  0.55259351 0.79231341]\n",
      " [0.4513523  0.26737364 0.44878626]\n",
      " [0.6421912  0.25129558 0.09044833]]\n",
      "[[2.18765581]\n",
      " [1.16751221]\n",
      " [0.98393511]]\n"
     ]
    }
   ],
   "source": [
    "matrix = np.random.rand(3, 3)\n",
    "print(matrix)\n",
    "row_sums = np.sum(matrix, axis=1, keepdims=True)\n",
    "print(row_sums)"
   ]
  },
  {
   "cell_type": "code",
   "execution_count": 18,
   "metadata": {},
   "outputs": [
    {
     "name": "stdout",
     "output_type": "stream",
     "text": [
      "[[ 3 10  7  8]\n",
      " [ 1  8  2  7]\n",
      " [ 3  3  4  7]]\n",
      "[[  9 100  49  64]\n",
      " [  1  64   4  49]\n",
      " [  9   9  16  49]]\n"
     ]
    }
   ],
   "source": [
    "matrix = np.random.randint(1, 11, size=(3, 4))\n",
    "print(matrix)\n",
    "squared_matrix = np.square(matrix)\n",
    "print(squared_matrix)"
   ]
  },
  {
   "cell_type": "code",
   "execution_count": 19,
   "metadata": {},
   "outputs": [
    {
     "name": "stdout",
     "output_type": "stream",
     "text": [
      "[46 21  1 15]\n",
      "[6.78232998 4.58257569 1.         3.87298335]\n"
     ]
    }
   ],
   "source": [
    "vector = np.random.randint(1, 51, size=4)\n",
    "print(vector)\n",
    "\n",
    "sqrt_vector = np.sqrt(vector)\n",
    "print(sqrt_vector)"
   ]
  }
 ],
 "metadata": {
  "kernelspec": {
   "display_name": "Python 3",
   "language": "python",
   "name": "python3"
  },
  "language_info": {
   "codemirror_mode": {
    "name": "ipython",
    "version": 3
   },
   "file_extension": ".py",
   "mimetype": "text/x-python",
   "name": "python",
   "nbconvert_exporter": "python",
   "pygments_lexer": "ipython3",
   "version": "3.11.4"
  }
 },
 "nbformat": 4,
 "nbformat_minor": 2
}
