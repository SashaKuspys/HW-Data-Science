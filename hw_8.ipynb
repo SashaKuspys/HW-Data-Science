{
  "nbformat": 4,
  "nbformat_minor": 0,
  "metadata": {
    "colab": {
      "provenance": []
    },
    "kernelspec": {
      "name": "python3",
      "display_name": "Python 3"
    },
    "language_info": {
      "name": "python"
    }
  },
  "cells": [
    {
      "cell_type": "code",
      "execution_count": 1,
      "metadata": {
        "id": "NmdWKciEzI1h"
      },
      "outputs": [],
      "source": [
        "import tensorflow as tf\n",
        "import numpy as np\n",
        "import pandas as pd\n",
        "import matplotlib.pyplot as plt\n",
        "import random\n",
        "import keras as K\n",
        "import seaborn as sns\n",
        "from sklearn.metrics import confusion_matrix"
      ]
    },
    {
      "cell_type": "code",
      "source": [
        "num_classes = 10 # загальна кількість класів, у нашому випадку це цифри від 0 до 9\n",
        "num_features = 784 # кількість атрибутів вхідного вектора 28 * 28 = 784\n",
        "\n",
        "learning_rate = 0.001 # швидкість навчання нейронної мережі\n",
        "training_steps = 3000 # максимальне число епох\n",
        "batch_size = 256 # перераховувати ваги мережі ми будемо не на всій вибірці, а на її випадковій підмножині з batch_size елементів\n",
        "display_step = 100 # кожні 100 ітерацій ми будемо показувати поточне значення функції втрат і точності\n",
        "\n",
        "n_hidden_1 = 128 # кількість нейронів 1-го шару\n",
        "n_hidden_2 = 256 # кількість нейронів 2-го шару"
      ],
      "metadata": {
        "id": "oIR6PntOztPY"
      },
      "execution_count": 2,
      "outputs": []
    },
    {
      "cell_type": "code",
      "source": [
        "# from tensorflow.keras.datasets import mnist\n",
        "from keras.datasets import mnist\n",
        "\n",
        "# Завантажуємо датасет\n",
        "(x_train, y_train), (x_test, y_test) = mnist.load_data()\n",
        "\n",
        "# Перетворюємо цілочисельні пікселі на тип float32\n",
        "x_train, x_test = np.array(x_train, np.float32), np.array(x_test, np.float32)\n",
        "\n",
        "# Перетворюємо матриці розміром 28x28 пікселів у вектор з 784 елементів\n",
        "x_train, x_test = x_train.reshape([-1, num_features]), x_test.reshape([-1, num_features])\n",
        "\n",
        "# Нормалізуємо значення пікселів\n",
        "x_train, x_test = x_train / 255., x_test / 255.\n",
        "\n",
        "# Перемішаємо тренувальні дані\n",
        "train_data = tf.data.Dataset.from_tensor_slices((x_train, y_train))\n",
        "train_data = train_data.repeat().shuffle(5000).batch(batch_size).prefetch(1)"
      ],
      "metadata": {
        "colab": {
          "base_uri": "https://localhost:8080/"
        },
        "id": "qfHXQpJc0A-1",
        "outputId": "d7a0711a-e82f-47fe-b559-815a847edb96"
      },
      "execution_count": 3,
      "outputs": [
        {
          "output_type": "stream",
          "name": "stdout",
          "text": [
            "Downloading data from https://storage.googleapis.com/tensorflow/tf-keras-datasets/mnist.npz\n",
            "11490434/11490434 [==============================] - 0s 0us/step\n"
          ]
        }
      ]
    },
    {
      "cell_type": "code",
      "source": [
        "# Створимо нейронну мережу\n",
        "\n",
        "class DenseLayer(tf.Module):\n",
        "    def __init__(self, in_features, out_features, name=None):\n",
        "        super().__init__(name=name)\n",
        "        self.w = tf.Variable(\n",
        "            tf.random.normal([in_features, out_features]), name=\"w\"\n",
        "        )\n",
        "        self.b = tf.Variable(tf.zeros([out_features]), name=\"b\")\n",
        "\n",
        "    def __call__(self, x, activation=0):\n",
        "        y = tf.matmul(x, self.w) + self.b\n",
        "        if activation != 0:\n",
        "            return tf.nn.softmax(y)\n",
        "        else:\n",
        "            return tf.nn.sigmoid(y)\n",
        "\n",
        "class NN(tf.Module):\n",
        "  def __init__(self, name=None):\n",
        "    super().__init__(name=name)\n",
        "    # Перший шар, який складається з 128 нейронів\n",
        "    self.layer1 = DenseLayer(num_features, n_hidden_1)\n",
        "    # Другий шар, який складається з 256 нейронів\n",
        "    self.layer2 = DenseLayer(n_hidden_1, n_hidden_2)\n",
        "    # Вихідний шар\n",
        "    self.out_layer = DenseLayer(n_hidden_2, num_classes)\n",
        "\n",
        "\n",
        "  def __call__(self, x):\n",
        "    # Передача даних через перші два шари та вихідний шар з функцією активації softmax\n",
        "    x = self.layer1(x, activation=1)\n",
        "    x = self.layer2(x, activation=1)\n",
        "    x = self.out_layer(x, activation=1)\n",
        "\n",
        "    return x"
      ],
      "metadata": {
        "id": "h0nOU5_50M4l"
      },
      "execution_count": 4,
      "outputs": []
    },
    {
      "cell_type": "code",
      "source": [
        "# В якості функції помилки в даному випадку зручно взяти крос-ентропію\n",
        "def cross_entropy(y_pred, y_true):\n",
        "    # Закодувати label в one hot vector\n",
        "    y_true = tf.one_hot(y_true, depth=num_classes)\n",
        "\n",
        "    # Значення передбачення, щоб уникнути помилки log(0).\n",
        "    y_pred = tf.clip_by_value(y_pred, 1e-9, 1.)\n",
        "\n",
        "    # Обчислення крос-ентропії\n",
        "    return tf.reduce_mean(-tf.reduce_sum(y_true * tf.math.log(y_pred)))\n",
        "\n",
        "# Як метрику якості використовуємо точність\n",
        "def accuracy(y_pred, y_true):\n",
        "    # Отримуємо індекси максимальних значень для передбачень\n",
        "    predicted_class = tf.argmax(y_pred, axis=1)\n",
        "    # Порівнюємо з правильними класами\n",
        "    correct_prediction = tf.equal(predicted_class, tf.cast(y_true, tf.int64))\n",
        "    # Перетворюємо булеві значення в тип float та обчислюємо середнє значення\n",
        "    return tf.reduce_mean(tf.cast(correct_prediction, tf.float32))"
      ],
      "metadata": {
        "id": "xmmbTiAY0aTK"
      },
      "execution_count": 5,
      "outputs": []
    },
    {
      "cell_type": "code",
      "source": [
        "# Створимо екземпляр нейронної мережі\n",
        "neural_net = NN(name=\"mnist\")\n",
        "\n",
        "# Функція навчання нейромережі\n",
        "def train(neural_net, input_x, output_y):\n",
        "  # Для налаштування вагів мережі будемо використовувати стохастичний градієнтний спуск\n",
        "  optimizer = tf.optimizers.SGD(learning_rate)\n",
        "\n",
        "  # Активація автоматичного диференціювання\n",
        "  with tf.GradientTape() as g:\n",
        "    pred = neural_net(input_x)\n",
        "    loss = cross_entropy(pred, output_y)\n",
        "\n",
        "    # Отримаємо список оптимізованих параметрів\n",
        "    trainable_variables = neural_net.trainable_variables\n",
        "    # Обчислимо за ними значення градієнта\n",
        "    gradients = g.gradient(loss, trainable_variables)\n",
        "\n",
        "    # Модифікуємо параметри\n",
        "    optimizer.apply_gradients(zip(gradients, trainable_variables))\n"
      ],
      "metadata": {
        "id": "W1FDOE3d0x4J"
      },
      "execution_count": 6,
      "outputs": []
    },
    {
      "cell_type": "code",
      "source": [
        "# Тренування мережі\n",
        "\n",
        "loss_history = []  # кожні display_step кроків зберігай в цьому списку поточну помилку нейромережі\n",
        "accuracy_history = [] # кожні display_step кроків зберігай в цьому списку поточну точність нейромережі\n",
        "\n",
        "# У цьому циклі ми будемо проводити навчання нейронної мережі\n",
        "# із тренувального датасета train_data вилучи випадкову підмножину, на якій\n",
        "# відбудеться тренування. Використовуй метод take, доступний для тренувального датасета.\n",
        "for step, (batch_x, batch_y) in enumerate(train_data.take(training_steps), 1):\n",
        "    # Оновлюємо ваги нейронної мережі\n",
        "    train(neural_net, batch_x, batch_y)\n",
        "\n",
        "    if step % display_step == 0:\n",
        "        pred = neural_net(batch_x)\n",
        "        loss = cross_entropy(pred, batch_y)\n",
        "        acc = accuracy(pred, batch_y)\n",
        "        loss_history.append(loss)\n",
        "        accuracy_history.append(acc)\n",
        "        print(f\"Step {step}, Loss: {loss}, Accuracy: {acc}\")"
      ],
      "metadata": {
        "colab": {
          "base_uri": "https://localhost:8080/"
        },
        "id": "vcHISsK006nA",
        "outputId": "422323c1-4b0c-4e1c-8c76-786ff3f6fba3"
      },
      "execution_count": 7,
      "outputs": [
        {
          "output_type": "stream",
          "name": "stdout",
          "text": [
            "Step 100, Loss: 585.58837890625, Accuracy: 0.171875\n",
            "Step 200, Loss: 586.6846923828125, Accuracy: 0.09765625\n",
            "Step 300, Loss: 582.73095703125, Accuracy: 0.14453125\n",
            "Step 400, Loss: 580.54541015625, Accuracy: 0.17578125\n",
            "Step 500, Loss: 573.4483642578125, Accuracy: 0.23828125\n",
            "Step 600, Loss: 570.5897216796875, Accuracy: 0.1796875\n",
            "Step 700, Loss: 559.244873046875, Accuracy: 0.27734375\n",
            "Step 800, Loss: 555.8931884765625, Accuracy: 0.19140625\n",
            "Step 900, Loss: 548.7525634765625, Accuracy: 0.22265625\n",
            "Step 1000, Loss: 538.2734375, Accuracy: 0.2734375\n",
            "Step 1100, Loss: 523.6176147460938, Accuracy: 0.26953125\n",
            "Step 1200, Loss: 510.861083984375, Accuracy: 0.31640625\n",
            "Step 1300, Loss: 490.15069580078125, Accuracy: 0.33203125\n",
            "Step 1400, Loss: 496.63861083984375, Accuracy: 0.3046875\n",
            "Step 1500, Loss: 489.21185302734375, Accuracy: 0.31640625\n",
            "Step 1600, Loss: 439.5875244140625, Accuracy: 0.3828125\n",
            "Step 1700, Loss: 434.3629150390625, Accuracy: 0.35546875\n",
            "Step 1800, Loss: 399.6264953613281, Accuracy: 0.42578125\n",
            "Step 1900, Loss: 386.1302185058594, Accuracy: 0.42578125\n",
            "Step 2000, Loss: 385.784912109375, Accuracy: 0.44921875\n",
            "Step 2100, Loss: 372.32061767578125, Accuracy: 0.4765625\n",
            "Step 2200, Loss: 362.77178955078125, Accuracy: 0.4609375\n",
            "Step 2300, Loss: 347.91558837890625, Accuracy: 0.4921875\n",
            "Step 2400, Loss: 342.9712829589844, Accuracy: 0.4609375\n",
            "Step 2500, Loss: 350.17059326171875, Accuracy: 0.48828125\n",
            "Step 2600, Loss: 337.8712463378906, Accuracy: 0.50390625\n",
            "Step 2700, Loss: 355.1950378417969, Accuracy: 0.46484375\n",
            "Step 2800, Loss: 329.2289123535156, Accuracy: 0.50390625\n",
            "Step 2900, Loss: 314.1664123535156, Accuracy: 0.5\n",
            "Step 3000, Loss: 321.08172607421875, Accuracy: 0.46875\n"
          ]
        }
      ]
    },
    {
      "cell_type": "code",
      "source": [
        "# Виведіть графіки залежності зміни точності і втрат від кроку\n",
        "# Якщо все зроблено правильно, то точність повинна зростати, а втрати зменшуватись\n",
        "\n",
        "import matplotlib.pyplot as plt\n",
        "\n",
        "# Виведіть графік функції втрат\n",
        "plt.plot(loss_history, label='Loss')\n",
        "plt.title('Зміна функції втрат')\n",
        "plt.xlabel('Крок')\n",
        "plt.ylabel('Втрати')\n",
        "plt.legend()\n",
        "plt.show()\n",
        "\n",
        "# Виведіть графік точності\n",
        "plt.plot(accuracy_history, label='Accuracy', color='orange')\n",
        "plt.title('Зміна точності')\n",
        "plt.xlabel('Крок')\n",
        "plt.ylabel('Точність')\n",
        "plt.legend()\n",
        "plt.show()"
      ],
      "metadata": {
        "colab": {
          "base_uri": "https://localhost:8080/",
          "height": 927
        },
        "id": "dDXahyFR09VR",
        "outputId": "61540b9c-88b8-45b2-dec2-d3a70d371664"
      },
      "execution_count": 8,
      "outputs": [
        {
          "output_type": "display_data",
          "data": {
            "text/plain": [
              "<Figure size 640x480 with 1 Axes>"
            ],
            "image/png": "[encoded data removed]"
          },
          "metadata": {}
        },
        {
          "output_type": "display_data",
          "data": {
            "text/plain": [
              "<Figure size 640x480 with 1 Axes>"
            ],
            "image/png": "[encoded data removed]"
          },
          "metadata": {}
        }
      ]
    },
    {
      "cell_type": "code",
      "source": [
        "# Обчисліть точність навченої нейромережі\n",
        "def compute_accuracy(neural_net, test_x, test_y):\n",
        "    pred = neural_net(test_x)\n",
        "    correct_predictions = tf.equal(tf.argmax(pred, 1), tf.cast(test_y, tf.int64))\n",
        "    return tf.reduce_mean(tf.cast(correct_predictions, tf.float32))\n",
        "\n",
        "accuracy = compute_accuracy(neural_net, x_test, y_test)\n",
        "print(\"Точність навченої нейромережі:\", accuracy.numpy())\n",
        "\n",
        "# Тестування моделі на тестових даних\n",
        "test_accuracy = compute_accuracy(neural_net, x_test, y_test)\n",
        "print(\"Точність на тестових даних:\", test_accuracy.numpy())"
      ],
      "metadata": {
        "colab": {
          "base_uri": "https://localhost:8080/"
        },
        "id": "-hmhBEOs0_xQ",
        "outputId": "baa371d5-53da-49fd-8586-7f3e06e344ec"
      },
      "execution_count": 9,
      "outputs": [
        {
          "output_type": "stream",
          "name": "stdout",
          "text": [
            "Точність навченої нейромережі: 0.4993\n",
            "Точність на тестових даних: 0.4993\n"
          ]
        }
      ]
    },
    {
      "cell_type": "code",
      "source": [
        "# Протестуйте навчену нейромережу на 10 зображеннях. З тестової вибірки візьміть 5\n",
        "# випадкових зображень і передайте їх у нейронну мережу.\n",
        "# Виведіть зображення та випишіть  поруч відповідь нейромережі.\n",
        "# Зробіть висновок про те, чи помиляється твоя нейронна мережа, і якщо так, то як часто?\n",
        "\n",
        "import random\n",
        "\n",
        "# Випадковим чином вибираємо 5 індексів зображень з тестового набору даних\n",
        "random_indices = random.sample(range(len(x_test)), 5)\n",
        "\n",
        "# Прогнозування класів для вибраних зображень\n",
        "predictions = neural_net(x_test[random_indices])\n",
        "\n",
        "# Виведення зображень та передбачень\n",
        "for i, idx in enumerate(random_indices):\n",
        "    image = x_test[idx].reshape((28, 28))\n",
        "    plt.imshow(image, cmap='gray')\n",
        "    plt.axis('off')\n",
        "    plt.show()\n",
        "    print(\"Передбачення нейронної мережі:\", tf.argmax(predictions[i]).numpy())\n",
        "\n",
        "\n"
      ],
      "metadata": {
        "colab": {
          "base_uri": "https://localhost:8080/",
          "height": 1000
        },
        "id": "ddjpWX4A1C67",
        "outputId": "34f1f23b-d6b0-4a5d-ada1-ed9c09e41a8a"
      },
      "execution_count": 19,
      "outputs": [
        {
          "output_type": "display_data",
          "data": {
            "text/plain": [
              "<Figure size 640x480 with 1 Axes>"
            ],
            "image/png": "[encoded data removed]"
          },
          "metadata": {}
        },
        {
          "output_type": "stream",
          "name": "stdout",
          "text": [
            "Передбачення нейронної мережі: 0\n"
          ]
        },
        {
          "output_type": "display_data",
          "data": {
            "text/plain": [
              "<Figure size 640x480 with 1 Axes>"
            ],
            "image/png": "[encoded data removed]"
          },
          "metadata": {}
        },
        {
          "output_type": "stream",
          "name": "stdout",
          "text": [
            "Передбачення нейронної мережі: 6\n"
          ]
        },
        {
          "output_type": "display_data",
          "data": {
            "text/plain": [
              "<Figure size 640x480 with 1 Axes>"
            ],
            "image/png": "[encoded data removed]"
          },
          "metadata": {}
        },
        {
          "output_type": "stream",
          "name": "stdout",
          "text": [
            "Передбачення нейронної мережі: 7\n"
          ]
        },
        {
          "output_type": "display_data",
          "data": {
            "text/plain": [
              "<Figure size 640x480 with 1 Axes>"
            ],
            "image/png": "[encoded data removed]"
          },
          "metadata": {}
        },
        {
          "output_type": "stream",
          "name": "stdout",
          "text": [
            "Передбачення нейронної мережі: 7\n"
          ]
        },
        {
          "output_type": "display_data",
          "data": {
            "text/plain": [
              "<Figure size 640x480 with 1 Axes>"
            ],
            "image/png": "[encoded data removed]"
          },
          "metadata": {}
        },
        {
          "output_type": "stream",
          "name": "stdout",
          "text": [
            "Передбачення нейронної мережі: 1\n"
          ]
        }
      ]
    },
    {
      "cell_type": "code",
      "source": [
        "from sklearn.metrics import classification_report\n",
        "\n",
        "# Отримуємо передбачення для тестових даних\n",
        "y_pred = neural_net(x_test)\n",
        "\n",
        "# Перетворюємо передбачення у масив індексів класів\n",
        "y_pred_classes = tf.argmax(y_pred, axis=1)\n",
        "\n",
        "# Виведення метрик якості для кожного класу\n",
        "print(classification_report(y_test, y_pred_classes))\n"
      ],
      "metadata": {
        "colab": {
          "base_uri": "https://localhost:8080/"
        },
        "id": "jVIDdX-5Lqlt",
        "outputId": "493f2bdc-dac9-4093-f9d9-5af26c254c4b"
      },
      "execution_count": 22,
      "outputs": [
        {
          "output_type": "stream",
          "name": "stdout",
          "text": [
            "              precision    recall  f1-score   support\n",
            "\n",
            "           0       0.75      0.66      0.70       980\n",
            "           1       0.96      0.94      0.95      1135\n",
            "           2       0.38      0.07      0.12      1032\n",
            "           3       0.35      0.04      0.08      1010\n",
            "           4       0.26      0.03      0.06       982\n",
            "           5       0.40      0.67      0.50       892\n",
            "           6       0.60      0.90      0.72       958\n",
            "           7       0.32      0.89      0.47      1028\n",
            "           8       0.42      0.77      0.54       974\n",
            "           9       0.19      0.00      0.01      1009\n",
            "\n",
            "    accuracy                           0.50     10000\n",
            "   macro avg       0.46      0.50      0.42     10000\n",
            "weighted avg       0.47      0.50      0.42     10000\n",
            "\n"
          ]
        }
      ]
    },
    {
      "cell_type": "markdown",
      "source": [
        "Висновок: Навчена нейромережа потребує подальшого налаштування або можливо використання більш складних моделей або оптимізаційних методів для поліпшення її продуктивності. З 5 випадкових зображень 3-4 були класифіковані правильно."
      ],
      "metadata": {
        "id": "Nv7v0v_0ONNR"
      }
    }
  ]
}