{
 "cells": [
  {
   "cell_type": "code",
   "execution_count": 52,
   "metadata": {},
   "outputs": [],
   "source": [
    "import numpy as np\n"
   ]
  },
  {
   "cell_type": "markdown",
   "metadata": {},
   "source": [
    "Функція гіпотези лінійної регресії у векторному вигляді:"
   ]
  },
  {
   "cell_type": "code",
   "execution_count": 53,
   "metadata": {},
   "outputs": [],
   "source": [
    "def hypothesis(X, w):\n",
    "    return np.dot(X, w)\n"
   ]
  },
  {
   "cell_type": "markdown",
   "metadata": {},
   "source": [
    "Функція для обчислення функції втрат у векторному вигляді:"
   ]
  },
  {
   "cell_type": "code",
   "execution_count": 54,
   "metadata": {},
   "outputs": [],
   "source": [
    "def compute_cost(X, y, w):\n",
    "    m = len(y)\n",
    "    predictions = hypothesis(X, w)\n",
    "    squared_errors = (predictions - y) ** 2\n",
    "    cost = 1 / (2 * m) * np.sum(squared_errors)\n",
    "    return cost"
   ]
  },
  {
   "cell_type": "markdown",
   "metadata": {},
   "source": [
    "Реалізація одного кроку градієнтного спуску:"
   ]
  },
  {
   "cell_type": "code",
   "execution_count": 55,
   "metadata": {},
   "outputs": [],
   "source": [
    "def gradient_descent_step(X, y, w, learning_rate):\n",
    "    m = len(y)\n",
    "    predictions = hypothesis(X, w)\n",
    "    errors = predictions - y\n",
    "    gradient = np.dot(X.T, errors) / m\n",
    "    w -= learning_rate * gradient\n",
    "    return w\n",
    "    \n",
    "    \n"
   ]
  },
  {
   "cell_type": "markdown",
   "metadata": {},
   "source": [
    "Знаходження найкращих параметрів vec_w"
   ]
  },
  {
   "cell_type": "code",
   "execution_count": 56,
   "metadata": {},
   "outputs": [],
   "source": [
    "def train_linear_regression(X, y, learning_rate, num_iterations):\n",
    "    w = np.zeros(X.shape[1])\n",
    "    for _ in range(num_iterations):\n",
    "        w = gradient_descent_step(X, y, w, learning_rate)\n",
    "    return w\n"
   ]
  },
  {
   "cell_type": "markdown",
   "metadata": {},
   "source": [
    "Знаходження параметрів vec_w за допомогою аналітичного рішення:"
   ]
  },
  {
   "cell_type": "code",
   "execution_count": 57,
   "metadata": {},
   "outputs": [],
   "source": [
    "def analytical_solution(X, y):\n",
    "    return np.linalg.inv(X.T @ X) @ X.T @ y\n"
   ]
  },
  {
   "cell_type": "markdown",
   "metadata": {},
   "source": [
    "Порівняння результатів:"
   ]
  },
  {
   "cell_type": "code",
   "execution_count": 58,
   "metadata": {},
   "outputs": [],
   "source": [
    "def compare_results(X, y, learning_rate, num_iterations):\n",
    "    w_gradient_descent = train_linear_regression(X, y, learning_rate, num_iterations)\n",
    "    w_analytical = analytical_solution(X, y)\n",
    "    return w_gradient_descent, w_analytical\n"
   ]
  },
  {
   "cell_type": "code",
   "execution_count": 66,
   "metadata": {},
   "outputs": [
    {
     "name": "stdout",
     "output_type": "stream",
     "text": [
      "градієнтний спуск: [-1.76681883e+154 -1.43135621e+152 -1.74446210e+152]\n",
      "аналітичне рішення: [ 0.30344828 16.55172414  5.17241379]\n"
     ]
    }
   ],
   "source": [
    "# Дані - площа, кількість ванних кімнат, кількість спалень та ціна на будинок\n",
    "X = np.array([[200, 2, 2],\n",
    "              [175, 1, 2],\n",
    "              [150, 1, 1],\n",
    "              [75, 1, 1]])\n",
    "\n",
    "y = np.array([100, 80, 70, 50])\n",
    "\n",
    "learning_rate = 0.05\n",
    "num_iterations = 50\n",
    "\n",
    "w_gradient_descent, w_analytical = compare_results(X, y, learning_rate, num_iterations)\n",
    "\n",
    "print(\"градієнтний спуск:\", w_gradient_descent)\n",
    "print(\"аналітичне рішення:\", w_analytical)"
   ]
  }
 ],
 "metadata": {
  "kernelspec": {
   "display_name": "venv",
   "language": "python",
   "name": "python3"
  },
  "language_info": {
   "codemirror_mode": {
    "name": "ipython",
    "version": 3
   },
   "file_extension": ".py",
   "mimetype": "text/x-python",
   "name": "python",
   "nbconvert_exporter": "python",
   "pygments_lexer": "ipython3",
   "version": "3.11.4"
  }
 },
 "nbformat": 4,
 "nbformat_minor": 2
}
